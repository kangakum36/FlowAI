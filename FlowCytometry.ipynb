{
 "cells": [
  {
   "cell_type": "code",
   "execution_count": 49,
   "metadata": {},
   "outputs": [],
   "source": [
    "import FlowCytometryTools\n",
    "import pandas as pd\n",
    "import numpy as np\n",
    "import os\n",
    "np.set_printoptions(suppress=True)"
   ]
  },
  {
   "cell_type": "code",
   "execution_count": 50,
   "metadata": {},
   "outputs": [],
   "source": [
    "datafile = '/Users/kangakum/Desktop/FlowCytometry/CAP 01  2019 - AML/CAP 01 2019_Tube 6_001.fcs'"
   ]
  },
  {
   "cell_type": "code",
   "execution_count": 51,
   "metadata": {},
   "outputs": [],
   "source": [
    "from FlowCytometryTools import FCMeasurement"
   ]
  },
  {
   "cell_type": "code",
   "execution_count": 52,
   "metadata": {},
   "outputs": [],
   "source": [
    "sample = FCMeasurement(ID = 'Test Sample', datafile = datafile)"
   ]
  },
  {
   "cell_type": "code",
   "execution_count": 53,
   "metadata": {},
   "outputs": [
    {
     "name": "stdout",
     "output_type": "stream",
     "text": [
      "('FSC-A', 'FSC-H', 'SSC-A', 'FITC-A', 'PE-A', 'PerCP-Cy5-5-A', 'PE-Cy7-A', 'APC-A', 'APC-R700-A', 'APC-H7-A', 'V450-A', 'V500-C-A', 'BV605-A', 'Time')\n"
     ]
    }
   ],
   "source": [
    "print(sample.channel_names)"
   ]
  },
  {
   "cell_type": "code",
   "execution_count": 54,
   "metadata": {},
   "outputs": [
    {
     "name": "stdout",
     "output_type": "stream",
     "text": [
      "           FSC-A     FSC-H          SSC-A       FITC-A         PE-A  \\\n",
      "0  262143.000000  227421.0   74312.101562   671.500000   659.600037   \n",
      "1  262143.000000  199750.0   65150.800781   496.400024   724.200012   \n",
      "2  262143.000000  218126.0   94412.906250   712.300049   459.000000   \n",
      "3  262143.000000  253452.0  105235.101562  1077.800049  1446.700073   \n",
      "4  139769.968750   96046.0  247996.000000   790.500000   669.800049   \n",
      "5  262143.000000  194958.0   67226.500000   812.600037  1218.900024   \n",
      "6  262143.000000  225230.0   69207.000000   955.400024  1064.200073   \n",
      "7   26422.589844   25004.0    4576.399902    54.400002  -108.800003   \n",
      "8  146084.890625  109935.0   82208.601562   771.800049    98.600006   \n",
      "9  262143.000000  225404.0   70714.898438   559.299988   902.700012   \n",
      "\n",
      "   PerCP-Cy5-5-A     PE-Cy7-A        APC-A  APC-R700-A    APC-H7-A  \\\n",
      "0     674.900024   -25.500000   306.450012    1.350000  114.750000   \n",
      "1    2038.300049  1217.200073  1113.750000  665.549988  102.599998   \n",
      "2     544.000000   357.000000   268.649994  -55.350002  -33.750000   \n",
      "3     255.000000   644.299988   306.450012  253.800003  303.750000   \n",
      "4    1324.300049   841.500000   845.100037  244.350006  369.899994   \n",
      "5    1513.000000  1468.800049   749.250000  280.800018  216.000000   \n",
      "6     419.900024   287.300018   193.050003  176.850006  -33.750000   \n",
      "7     -42.500000   217.600006    33.750000   -9.450000  -28.350000   \n",
      "8     884.000000  -392.700012  1161.000000  410.399994   72.900002   \n",
      "9     493.000000   238.000000   209.250000  230.850006  125.550003   \n",
      "\n",
      "        V450-A     V500-C-A      BV605-A       Time  \n",
      "0  1095.599976  1862.520020  2568.020020  53.000000  \n",
      "1   765.260010   952.839966  2099.899902  53.200001  \n",
      "2   921.299988   848.260010  1713.119995  53.299999  \n",
      "3  1429.260010  3766.540039  3932.540039  53.400002  \n",
      "4  1198.520020  1261.599976  2480.040039  53.500000  \n",
      "5  1002.639954  1415.979980  2536.479980  53.599998  \n",
      "6   859.880005  1037.500000  1543.799927  53.799999  \n",
      "7    34.860001    76.360001  -192.559998  53.900002  \n",
      "8  1739.679932  4443.819824  4369.120117  53.900002  \n",
      "9  1196.859985  1027.540039  1955.479980  53.900002  \n"
     ]
    }
   ],
   "source": [
    "print(sample.data[['FSC-A', 'FSC-H', 'SSC-A', 'FITC-A', 'PE-A', 'PerCP-Cy5-5-A', 'PE-Cy7-A', 'APC-A', 'APC-R700-A', 'APC-H7-A', 'V450-A', 'V500-C-A', 'BV605-A', 'Time']][:10])"
   ]
  },
  {
   "cell_type": "code",
   "execution_count": 55,
   "metadata": {},
   "outputs": [
    {
     "name": "stdout",
     "output_type": "stream",
     "text": [
      "[[262143.      227421.       74312.1     ...   1862.52      2568.02\n",
      "      53.     ]\n",
      " [262143.      199750.       65150.8     ...    952.83997   2099.9\n",
      "      53.2    ]\n",
      " [262143.      218126.       94412.91    ...    848.26      1713.12\n",
      "      53.3    ]\n",
      " ...\n",
      " [262143.      235957.       76661.5     ...   1221.76      2335.6199\n",
      "   39877.9    ]\n",
      " [262143.      200031.      111543.805   ...   1553.76      3225.38\n",
      "   39878.     ]\n",
      " [ 96039.26     60581.      103997.5     ...   3069.3398    4980.\n",
      "   39878.     ]]\n"
     ]
    }
   ],
   "source": [
    "data = sample.data\n",
    "data_as_array = data.values\n",
    "print(data_as_array)"
   ]
  },
  {
   "cell_type": "code",
   "execution_count": 56,
   "metadata": {},
   "outputs": [],
   "source": [
    "data_as_1D_array = []\n",
    "for i in range(len(data_as_array)) : \n",
    "    for j in range (len(data_as_array[0])):\n",
    "        data_as_1D_array.append(data_as_array[i][j])\n",
    "    "
   ]
  },
  {
   "cell_type": "code",
   "execution_count": 57,
   "metadata": {},
   "outputs": [
    {
     "name": "stdout",
     "output_type": "stream",
     "text": [
      "2698444\n"
     ]
    }
   ],
   "source": [
    "data_as_column = np.r_['c', data_as_1D_array]\n",
    "print(len(data_as_column))\n"
   ]
  },
  {
   "cell_type": "code",
   "execution_count": 58,
   "metadata": {},
   "outputs": [],
   "source": [
    "data_labels = []\n",
    "cell_number = int((len(data_as_array) * len(data_as_array[0])) / len(sample.channel_names))\n",
    "for i in range(cell_number):\n",
    "    for j in range(len(sample.channel_names)):\n",
    "        data_labels.append(sample.channel_names[j] + '-' + str(i + 1))\n",
    "\n",
    "    "
   ]
  },
  {
   "cell_type": "code",
   "execution_count": 59,
   "metadata": {},
   "outputs": [
    {
     "name": "stdout",
     "output_type": "stream",
     "text": [
      "(2698444, 1)\n",
      "(2698444, 1)\n"
     ]
    }
   ],
   "source": [
    "data_labels_as_column = np.r_['c', data_labels]\n",
    "print(data_labels_as_column.shape)\n",
    "print(data_as_column.shape)"
   ]
  },
  {
   "cell_type": "code",
   "execution_count": 60,
   "metadata": {},
   "outputs": [
    {
     "name": "stdout",
     "output_type": "stream",
     "text": [
      "[['FSC-A-1' '262143.0']\n",
      " ['FSC-H-1' '227421.0']\n",
      " ['SSC-A-1' '74312.1']\n",
      " ['FITC-A-1' '671.5']\n",
      " ['PE-A-1' '659.60004']\n",
      " ['PerCP-Cy5-5-A-1' '674.9']\n",
      " ['PE-Cy7-A-1' '-25.5']\n",
      " ['APC-A-1' '306.45']\n",
      " ['APC-R700-A-1' '1.35']\n",
      " ['APC-H7-A-1' '114.75']\n",
      " ['V450-A-1' '1095.6']\n",
      " ['V500-C-A-1' '1862.52']\n",
      " ['BV605-A-1' '2568.02']\n",
      " ['Time-1' '53.0']\n",
      " ['FSC-A-2' '262143.0']\n",
      " ['FSC-H-2' '199750.0']\n",
      " ['SSC-A-2' '65150.8']\n",
      " ['FITC-A-2' '496.40002']\n",
      " ['PE-A-2' '724.2']\n",
      " ['PerCP-Cy5-5-A-2' '2038.3']\n",
      " ['PE-Cy7-A-2' '1217.2001']\n",
      " ['APC-A-2' '1113.75']\n",
      " ['APC-R700-A-2' '665.55']\n",
      " ['APC-H7-A-2' '102.6']\n",
      " ['V450-A-2' '765.26']\n",
      " ['V500-C-A-2' '952.83997']\n",
      " ['BV605-A-2' '2099.9']\n",
      " ['Time-2' '53.2']]\n"
     ]
    }
   ],
   "source": [
    "final_data = np.concatenate((data_labels_as_column,data_as_column),axis=1)\n",
    "print(final_data[:28])"
   ]
  },
  {
   "cell_type": "code",
   "execution_count": null,
   "metadata": {},
   "outputs": [],
   "source": []
  }
 ],
 "metadata": {
  "kernelspec": {
   "display_name": "Python 3",
   "language": "python",
   "name": "python3"
  },
  "language_info": {
   "codemirror_mode": {
    "name": "ipython",
    "version": 3
   },
   "file_extension": ".py",
   "mimetype": "text/x-python",
   "name": "python",
   "nbconvert_exporter": "python",
   "pygments_lexer": "ipython3",
   "version": "3.7.3"
  }
 },
 "nbformat": 4,
 "nbformat_minor": 2
}

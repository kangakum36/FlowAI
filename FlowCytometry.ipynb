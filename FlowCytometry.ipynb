{
 "cells": [
  {
   "cell_type": "code",
   "execution_count": 29,
   "metadata": {},
   "outputs": [],
   "source": [
    "import FlowCytometryTools\n",
    "import glob\n",
    "import pandas as pd\n",
    "import numpy as np\n",
    "import impyute as im\n",
    "import os\n",
    "import fancyimpute\n",
    "np.set_printoptions(suppress=True)\n",
    "from fancyimpute import KNN, NuclearNormMinimization, SoftImpute, BiScaler"
   ]
  },
  {
   "cell_type": "code",
   "execution_count": 30,
   "metadata": {},
   "outputs": [],
   "source": [
    "files_path = '/Users/kangakum/FlowAI/TestCases'"
   ]
  },
  {
   "cell_type": "code",
   "execution_count": 31,
   "metadata": {},
   "outputs": [],
   "source": [
    "read_files = glob.glob(os.path.join(files_path, \"*.fcs\"))"
   ]
  },
  {
   "cell_type": "code",
   "execution_count": 32,
   "metadata": {},
   "outputs": [],
   "source": [
    "read_files.sort()\n"
   ]
  },
  {
   "cell_type": "code",
   "execution_count": 33,
   "metadata": {},
   "outputs": [],
   "source": [
    "numcases = int(len(read_files) / 4)\n",
    "cases = []\n",
    "for x in range(numcases):\n",
    "    cases.append([])\n"
   ]
  },
  {
   "cell_type": "code",
   "execution_count": 34,
   "metadata": {
    "scrolled": true
   },
   "outputs": [
    {
     "name": "stdout",
     "output_type": "stream",
     "text": [
      "['/Users/kangakum/FlowAI/TestCases/1XXX103.fcs', '/Users/kangakum/FlowAI/TestCases/2XXX103.fcs', '/Users/kangakum/FlowAI/TestCases/3XXX103.fcs', '/Users/kangakum/FlowAI/TestCases/4XXX103.fcs']\n"
     ]
    }
   ],
   "source": [
    "for x in range(len(read_files)):\n",
    "    cases[x%numcases].append(read_files[x])\n",
    "print(cases[0])"
   ]
  },
  {
   "cell_type": "code",
   "execution_count": 35,
   "metadata": {},
   "outputs": [],
   "source": [
    "from FlowCytometryTools import FCMeasurement"
   ]
  },
  {
   "cell_type": "code",
   "execution_count": 36,
   "metadata": {},
   "outputs": [
    {
     "name": "stdout",
     "output_type": "stream",
     "text": [
      "13\n"
     ]
    }
   ],
   "source": [
    "channels = ['FSC-A', 'FSC-H', 'SSC-A', 'FITC-A', 'PE-A', 'PerCP-Cy5-5-A', 'PE-Cy7-A', 'APC-A', 'APC-R700-A', 'APC-H7-A', 'V450-A', 'V500-C-A', 'BV605-A']\n",
    "Tube1Antibodies = ['FSC-A', 'FSC-H', 'SSC-A', 'Kap P', 'Lam P', 'CD19', 'CD2', 'CD10', 'CD20', 'CD23', 'CD5', 'CD45', 'CD200']\n",
    "Tube2Antibodies = ['FSC-A', 'FSC-H', 'SSC-A', 'Kap M', 'Lam M', 'CD38', 'CD11c', 'CD103', 'CD3', 'CD25', 'FMC7', 'CD45', 'CD19']\n",
    "Tube3Antibodies = ['FSC-A', 'FSC-H', 'SSC-A', 'CD57', 'CD16', 'CD8', 'CD5', 'CD2', 'CD4', 'CD56', 'CD3', 'CD45', 'CD7']\n",
    "Tube4Antibodies = ['FSC-A', 'FSC-H', 'SSC-A', 'TCR ab', 'TCRgd', 'CD3', 'CD2', 'CD22', 'CD52', 'CD19', 'CD30', 'CD45', 'HLADR']\n",
    "print(len(channels))"
   ]
  },
  {
   "cell_type": "code",
   "execution_count": 37,
   "metadata": {},
   "outputs": [],
   "source": [
    "Tubes = []\n",
    "Tubes.append({channels[i]: Tube1Antibodies[i] for i in range(len(channels))})\n",
    "Tubes.append({channels[i]: Tube2Antibodies[i] for i in range(len(channels))})\n",
    "Tubes.append({channels[i]: Tube3Antibodies[i] for i in range(len(channels))})\n",
    "Tubes.append({channels[i]: Tube4Antibodies[i] for i in range(len(channels))})"
   ]
  },
  {
   "cell_type": "code",
   "execution_count": 38,
   "metadata": {},
   "outputs": [
    {
     "name": "stdout",
     "output_type": "stream",
     "text": [
      "['FSC-A', 'FSC-H', 'SSC-A', 'Kap P', 'Lam P', 'CD19', 'CD2', 'CD10', 'CD20', 'CD23', 'CD5', 'CD45', 'CD200', 'Kap M', 'Lam M', 'CD38', 'CD11c', 'CD103', 'CD3', 'CD25', 'FMC7', 'CD57', 'CD16', 'CD8', 'CD4', 'CD56', 'CD7', 'TCR ab', 'TCRgd', 'CD22', 'CD52', 'CD30', 'HLADR']\n"
     ]
    }
   ],
   "source": [
    "columns = ['FSC-A', 'FSC-H', 'SSC-A', 'Kap P', 'Lam P', 'CD19', 'CD2', 'CD10', 'CD20', 'CD23', 'CD5', 'CD45', 'CD200', 'Kap M', 'Lam M', 'CD38', 'CD11c', 'CD103', 'CD3', 'CD25', 'FMC7', 'CD57', 'CD16', 'CD8', 'CD4', 'CD56', 'CD7','TCR ab', 'TCRgd','CD22', 'CD52', 'CD30', 'HLADR']\n",
    "print(columns)"
   ]
  },
  {
   "cell_type": "code",
   "execution_count": 39,
   "metadata": {},
   "outputs": [
    {
     "name": "stdout",
     "output_type": "stream",
     "text": [
      "[]\n",
      "[array([[nan, nan, nan, ..., nan, nan, nan],\n",
      "       [nan, nan, nan, ..., nan, nan, nan],\n",
      "       [nan, nan, nan, ..., nan, nan, nan],\n",
      "       ...,\n",
      "       [nan, nan, nan, ..., nan, nan, nan],\n",
      "       [nan, nan, nan, ..., nan, nan, nan],\n",
      "       [nan, nan, nan, ..., nan, nan, nan]]), array([[nan, nan, nan, ..., nan, nan, nan],\n",
      "       [nan, nan, nan, ..., nan, nan, nan],\n",
      "       [nan, nan, nan, ..., nan, nan, nan],\n",
      "       ...,\n",
      "       [nan, nan, nan, ..., nan, nan, nan],\n",
      "       [nan, nan, nan, ..., nan, nan, nan],\n",
      "       [nan, nan, nan, ..., nan, nan, nan]]), array([[nan, nan, nan, ..., nan, nan, nan],\n",
      "       [nan, nan, nan, ..., nan, nan, nan],\n",
      "       [nan, nan, nan, ..., nan, nan, nan],\n",
      "       ...,\n",
      "       [nan, nan, nan, ..., nan, nan, nan],\n",
      "       [nan, nan, nan, ..., nan, nan, nan],\n",
      "       [nan, nan, nan, ..., nan, nan, nan]])]\n"
     ]
    }
   ],
   "source": [
    "caseData = []\n",
    "print(caseData)\n",
    "for x in range(len(cases)):\n",
    "    rows = 0\n",
    "    for case in cases[x]:\n",
    "        sample = FCMeasurement(ID = 'Test Sample', datafile = case)\n",
    "        rows += sample.data.shape[0]\n",
    "    caseData.append(np.empty((rows,len(columns),)))\n",
    "    caseData[x][:] = np.nan\n",
    "print(caseData)"
   ]
  },
  {
   "cell_type": "code",
   "execution_count": 40,
   "metadata": {
    "scrolled": true
   },
   "outputs": [],
   "source": [
    "def case_data_processing(caseNum):\n",
    "    adjustment = 0\n",
    "    for x in range(len(cases[caseNum])):\n",
    "        sample = FCMeasurement(ID = 'Test Sample', datafile = cases[caseNum][x])\n",
    "        data_as_array = sample.data.values\n",
    "        data_as_array = np.delete(data_as_array, sample.channel_names.index('Time'), 1)\n",
    "        key = Tubes[x]\n",
    "        for y in range(len(channels)):\n",
    "            antibody = key.get(channels[y])\n",
    "            antibody_num = columns.index(antibody)\n",
    "            for z in range(sample.data.values.shape[0]):\n",
    "                caseData[caseNum][z + adjustment, antibody_num] = data_as_array[z, y]\n",
    "            print(\"Data Processing: Case \" + str(caseNum + 1) + \" tube \" + str(x + 1) + \" channel \" + str(y + 1))\n",
    "        adjustment += sample.data.values.shape[0]  "
   ]
  },
  {
   "cell_type": "code",
   "execution_count": 41,
   "metadata": {},
   "outputs": [
    {
     "name": "stdout",
     "output_type": "stream",
     "text": [
      "Data Processing: Case 1 tube 1 channel 1\n",
      "Data Processing: Case 1 tube 1 channel 2\n",
      "Data Processing: Case 1 tube 1 channel 3\n",
      "Data Processing: Case 1 tube 1 channel 4\n",
      "Data Processing: Case 1 tube 1 channel 5\n",
      "Data Processing: Case 1 tube 1 channel 6\n",
      "Data Processing: Case 1 tube 1 channel 7\n",
      "Data Processing: Case 1 tube 1 channel 8\n",
      "Data Processing: Case 1 tube 1 channel 9\n",
      "Data Processing: Case 1 tube 1 channel 10\n",
      "Data Processing: Case 1 tube 1 channel 11\n",
      "Data Processing: Case 1 tube 1 channel 12\n",
      "Data Processing: Case 1 tube 1 channel 13\n",
      "Data Processing: Case 1 tube 2 channel 1\n",
      "Data Processing: Case 1 tube 2 channel 2\n",
      "Data Processing: Case 1 tube 2 channel 3\n",
      "Data Processing: Case 1 tube 2 channel 4\n",
      "Data Processing: Case 1 tube 2 channel 5\n",
      "Data Processing: Case 1 tube 2 channel 6\n",
      "Data Processing: Case 1 tube 2 channel 7\n",
      "Data Processing: Case 1 tube 2 channel 8\n",
      "Data Processing: Case 1 tube 2 channel 9\n",
      "Data Processing: Case 1 tube 2 channel 10\n",
      "Data Processing: Case 1 tube 2 channel 11\n",
      "Data Processing: Case 1 tube 2 channel 12\n",
      "Data Processing: Case 1 tube 2 channel 13\n",
      "Data Processing: Case 1 tube 3 channel 1\n",
      "Data Processing: Case 1 tube 3 channel 2\n",
      "Data Processing: Case 1 tube 3 channel 3\n",
      "Data Processing: Case 1 tube 3 channel 4\n",
      "Data Processing: Case 1 tube 3 channel 5\n",
      "Data Processing: Case 1 tube 3 channel 6\n",
      "Data Processing: Case 1 tube 3 channel 7\n",
      "Data Processing: Case 1 tube 3 channel 8\n",
      "Data Processing: Case 1 tube 3 channel 9\n",
      "Data Processing: Case 1 tube 3 channel 10\n",
      "Data Processing: Case 1 tube 3 channel 11\n",
      "Data Processing: Case 1 tube 3 channel 12\n",
      "Data Processing: Case 1 tube 3 channel 13\n",
      "Data Processing: Case 1 tube 4 channel 1\n",
      "Data Processing: Case 1 tube 4 channel 2\n",
      "Data Processing: Case 1 tube 4 channel 3\n",
      "Data Processing: Case 1 tube 4 channel 4\n",
      "Data Processing: Case 1 tube 4 channel 5\n",
      "Data Processing: Case 1 tube 4 channel 6\n",
      "Data Processing: Case 1 tube 4 channel 7\n",
      "Data Processing: Case 1 tube 4 channel 8\n",
      "Data Processing: Case 1 tube 4 channel 9\n",
      "Data Processing: Case 1 tube 4 channel 10\n",
      "Data Processing: Case 1 tube 4 channel 11\n",
      "Data Processing: Case 1 tube 4 channel 12\n",
      "Data Processing: Case 1 tube 4 channel 13\n",
      "Data Processing: Case 2 tube 1 channel 1\n",
      "Data Processing: Case 2 tube 1 channel 2\n",
      "Data Processing: Case 2 tube 1 channel 3\n",
      "Data Processing: Case 2 tube 1 channel 4\n",
      "Data Processing: Case 2 tube 1 channel 5\n",
      "Data Processing: Case 2 tube 1 channel 6\n",
      "Data Processing: Case 2 tube 1 channel 7\n",
      "Data Processing: Case 2 tube 1 channel 8\n",
      "Data Processing: Case 2 tube 1 channel 9\n",
      "Data Processing: Case 2 tube 1 channel 10\n",
      "Data Processing: Case 2 tube 1 channel 11\n",
      "Data Processing: Case 2 tube 1 channel 12\n",
      "Data Processing: Case 2 tube 1 channel 13\n",
      "Data Processing: Case 2 tube 2 channel 1\n",
      "Data Processing: Case 2 tube 2 channel 2\n",
      "Data Processing: Case 2 tube 2 channel 3\n",
      "Data Processing: Case 2 tube 2 channel 4\n",
      "Data Processing: Case 2 tube 2 channel 5\n",
      "Data Processing: Case 2 tube 2 channel 6\n",
      "Data Processing: Case 2 tube 2 channel 7\n",
      "Data Processing: Case 2 tube 2 channel 8\n",
      "Data Processing: Case 2 tube 2 channel 9\n",
      "Data Processing: Case 2 tube 2 channel 10\n",
      "Data Processing: Case 2 tube 2 channel 11\n",
      "Data Processing: Case 2 tube 2 channel 12\n",
      "Data Processing: Case 2 tube 2 channel 13\n",
      "Data Processing: Case 2 tube 3 channel 1\n",
      "Data Processing: Case 2 tube 3 channel 2\n",
      "Data Processing: Case 2 tube 3 channel 3\n",
      "Data Processing: Case 2 tube 3 channel 4\n",
      "Data Processing: Case 2 tube 3 channel 5\n",
      "Data Processing: Case 2 tube 3 channel 6\n",
      "Data Processing: Case 2 tube 3 channel 7\n",
      "Data Processing: Case 2 tube 3 channel 8\n",
      "Data Processing: Case 2 tube 3 channel 9\n",
      "Data Processing: Case 2 tube 3 channel 10\n",
      "Data Processing: Case 2 tube 3 channel 11\n",
      "Data Processing: Case 2 tube 3 channel 12\n",
      "Data Processing: Case 2 tube 3 channel 13\n",
      "Data Processing: Case 2 tube 4 channel 1\n",
      "Data Processing: Case 2 tube 4 channel 2\n",
      "Data Processing: Case 2 tube 4 channel 3\n",
      "Data Processing: Case 2 tube 4 channel 4\n",
      "Data Processing: Case 2 tube 4 channel 5\n",
      "Data Processing: Case 2 tube 4 channel 6\n",
      "Data Processing: Case 2 tube 4 channel 7\n",
      "Data Processing: Case 2 tube 4 channel 8\n",
      "Data Processing: Case 2 tube 4 channel 9\n",
      "Data Processing: Case 2 tube 4 channel 10\n",
      "Data Processing: Case 2 tube 4 channel 11\n",
      "Data Processing: Case 2 tube 4 channel 12\n",
      "Data Processing: Case 2 tube 4 channel 13\n",
      "Data Processing: Case 3 tube 1 channel 1\n",
      "Data Processing: Case 3 tube 1 channel 2\n",
      "Data Processing: Case 3 tube 1 channel 3\n",
      "Data Processing: Case 3 tube 1 channel 4\n",
      "Data Processing: Case 3 tube 1 channel 5\n",
      "Data Processing: Case 3 tube 1 channel 6\n",
      "Data Processing: Case 3 tube 1 channel 7\n",
      "Data Processing: Case 3 tube 1 channel 8\n",
      "Data Processing: Case 3 tube 1 channel 9\n",
      "Data Processing: Case 3 tube 1 channel 10\n",
      "Data Processing: Case 3 tube 1 channel 11\n",
      "Data Processing: Case 3 tube 1 channel 12\n",
      "Data Processing: Case 3 tube 1 channel 13\n",
      "Data Processing: Case 3 tube 2 channel 1\n",
      "Data Processing: Case 3 tube 2 channel 2\n",
      "Data Processing: Case 3 tube 2 channel 3\n",
      "Data Processing: Case 3 tube 2 channel 4\n",
      "Data Processing: Case 3 tube 2 channel 5\n",
      "Data Processing: Case 3 tube 2 channel 6\n",
      "Data Processing: Case 3 tube 2 channel 7\n",
      "Data Processing: Case 3 tube 2 channel 8\n",
      "Data Processing: Case 3 tube 2 channel 9\n",
      "Data Processing: Case 3 tube 2 channel 10\n",
      "Data Processing: Case 3 tube 2 channel 11\n",
      "Data Processing: Case 3 tube 2 channel 12\n",
      "Data Processing: Case 3 tube 2 channel 13\n",
      "Data Processing: Case 3 tube 3 channel 1\n",
      "Data Processing: Case 3 tube 3 channel 2\n",
      "Data Processing: Case 3 tube 3 channel 3\n",
      "Data Processing: Case 3 tube 3 channel 4\n",
      "Data Processing: Case 3 tube 3 channel 5\n",
      "Data Processing: Case 3 tube 3 channel 6\n",
      "Data Processing: Case 3 tube 3 channel 7\n",
      "Data Processing: Case 3 tube 3 channel 8\n",
      "Data Processing: Case 3 tube 3 channel 9\n",
      "Data Processing: Case 3 tube 3 channel 10\n",
      "Data Processing: Case 3 tube 3 channel 11\n",
      "Data Processing: Case 3 tube 3 channel 12\n",
      "Data Processing: Case 3 tube 3 channel 13\n",
      "Data Processing: Case 3 tube 4 channel 1\n",
      "Data Processing: Case 3 tube 4 channel 2\n",
      "Data Processing: Case 3 tube 4 channel 3\n",
      "Data Processing: Case 3 tube 4 channel 4\n",
      "Data Processing: Case 3 tube 4 channel 5\n",
      "Data Processing: Case 3 tube 4 channel 6\n",
      "Data Processing: Case 3 tube 4 channel 7\n",
      "Data Processing: Case 3 tube 4 channel 8\n",
      "Data Processing: Case 3 tube 4 channel 9\n",
      "Data Processing: Case 3 tube 4 channel 10\n",
      "Data Processing: Case 3 tube 4 channel 11\n",
      "Data Processing: Case 3 tube 4 channel 12\n",
      "Data Processing: Case 3 tube 4 channel 13\n"
     ]
    }
   ],
   "source": [
    "for x in range(len(cases)):\n",
    "    case_data_processing(x)"
   ]
  },
  {
   "cell_type": "code",
   "execution_count": 42,
   "metadata": {},
   "outputs": [
    {
     "name": "stdout",
     "output_type": "stream",
     "text": [
      "[82652.953125   67951.         31013.1015625    708.90002441\n",
      "   776.90002441   108.80000305 16291.10058594    26.40999985\n",
      "    27.79999924   540.71002197   681.70001221  5846.30029297\n",
      "  2704.70019531            nan            nan            nan\n",
      "            nan            nan            nan            nan\n",
      "            nan            nan            nan            nan\n",
      "            nan            nan            nan            nan\n",
      "            nan            nan            nan            nan\n",
      "            nan]\n"
     ]
    }
   ],
   "source": [
    "print(caseData[0][0])"
   ]
  },
  {
   "cell_type": "code",
   "execution_count": 43,
   "metadata": {},
   "outputs": [
    {
     "name": "stdout",
     "output_type": "stream",
     "text": [
      "[SoftImpute] Max Singular Value of X_init = 124642696.122875\n",
      "[SoftImpute] Iter 1: observed MAE=2007.288530 rank=10\n",
      "[SoftImpute] Iter 2: observed MAE=1988.192977 rank=9\n",
      "[SoftImpute] Iter 3: observed MAE=1984.365707 rank=9\n",
      "[SoftImpute] Iter 4: observed MAE=1987.457198 rank=8\n",
      "[SoftImpute] Iter 5: observed MAE=1993.729098 rank=8\n",
      "[SoftImpute] Iter 6: observed MAE=2001.489170 rank=8\n",
      "[SoftImpute] Iter 7: observed MAE=2009.421782 rank=8\n",
      "[SoftImpute] Iter 8: observed MAE=2016.869286 rank=8\n",
      "[SoftImpute] Iter 9: observed MAE=2023.542029 rank=8\n",
      "[SoftImpute] Iter 10: observed MAE=2029.350648 rank=8\n",
      "[SoftImpute] Iter 11: observed MAE=2034.309963 rank=8\n",
      "[SoftImpute] Iter 12: observed MAE=2038.491398 rank=8\n",
      "[SoftImpute] Iter 13: observed MAE=2041.999464 rank=8\n",
      "[SoftImpute] Iter 14: observed MAE=2044.948403 rank=8\n",
      "[SoftImpute] Iter 15: observed MAE=2047.443974 rank=8\n",
      "[SoftImpute] Iter 16: observed MAE=2048.883723 rank=7\n",
      "[SoftImpute] Iter 17: observed MAE=2049.980312 rank=7\n",
      "[SoftImpute] Iter 18: observed MAE=2051.081098 rank=7\n",
      "[SoftImpute] Iter 19: observed MAE=2052.112101 rank=7\n",
      "[SoftImpute] Iter 20: observed MAE=2053.048834 rank=7\n",
      "[SoftImpute] Iter 21: observed MAE=2053.886577 rank=7\n",
      "[SoftImpute] Iter 22: observed MAE=2054.629873 rank=7\n",
      "[SoftImpute] Iter 23: observed MAE=2055.285774 rank=7\n",
      "[SoftImpute] Iter 24: observed MAE=2055.862273 rank=7\n",
      "[SoftImpute] Iter 25: observed MAE=2056.367906 rank=7\n",
      "[SoftImpute] Iter 26: observed MAE=2056.810655 rank=7\n",
      "[SoftImpute] Iter 27: observed MAE=2057.197335 rank=7\n",
      "[SoftImpute] Iter 28: observed MAE=2057.534434 rank=7\n",
      "[SoftImpute] Iter 29: observed MAE=2057.827627 rank=7\n",
      "[SoftImpute] Iter 30: observed MAE=2058.081971 rank=7\n",
      "[SoftImpute] Iter 31: observed MAE=2058.302160 rank=7\n",
      "[SoftImpute] Iter 32: observed MAE=2058.492252 rank=7\n",
      "[SoftImpute] Iter 33: observed MAE=2058.655938 rank=7\n",
      "[SoftImpute] Iter 34: observed MAE=2058.796381 rank=7\n",
      "[SoftImpute] Iter 35: observed MAE=2058.916351 rank=7\n",
      "[SoftImpute] Iter 36: observed MAE=2059.018531 rank=7\n",
      "[SoftImpute] Iter 37: observed MAE=2059.104878 rank=7\n",
      "[SoftImpute] Iter 38: observed MAE=2059.177335 rank=7\n",
      "[SoftImpute] Iter 39: observed MAE=2059.237560 rank=7\n",
      "[SoftImpute] Iter 40: observed MAE=2059.287178 rank=7\n",
      "[SoftImpute] Iter 41: observed MAE=2059.327580 rank=7\n",
      "[SoftImpute] Iter 42: observed MAE=2059.359914 rank=7\n",
      "[SoftImpute] Iter 43: observed MAE=2059.385257 rank=7\n",
      "[SoftImpute] Iter 44: observed MAE=2059.404521 rank=7\n",
      "[SoftImpute] Iter 45: observed MAE=2059.418569 rank=7\n",
      "[SoftImpute] Iter 46: observed MAE=2059.428120 rank=7\n",
      "[SoftImpute] Iter 47: observed MAE=2059.433843 rank=7\n",
      "[SoftImpute] Iter 48: observed MAE=2059.436368 rank=7\n",
      "[SoftImpute] Iter 49: observed MAE=2059.436097 rank=7\n",
      "[SoftImpute] Iter 50: observed MAE=2059.433488 rank=7\n",
      "[SoftImpute] Iter 51: observed MAE=2059.428980 rank=7\n",
      "[SoftImpute] Iter 52: observed MAE=2059.422931 rank=7\n",
      "[SoftImpute] Iter 53: observed MAE=2059.415566 rank=7\n",
      "[SoftImpute] Iter 54: observed MAE=2059.407254 rank=7\n",
      "[SoftImpute] Iter 55: observed MAE=2059.398165 rank=7\n",
      "[SoftImpute] Iter 56: observed MAE=2059.388444 rank=7\n",
      "[SoftImpute] Iter 57: observed MAE=2059.378315 rank=7\n",
      "[SoftImpute] Iter 58: observed MAE=2059.367933 rank=7\n",
      "[SoftImpute] Iter 59: observed MAE=2059.357396 rank=7\n",
      "[SoftImpute] Iter 60: observed MAE=2059.346793 rank=7\n",
      "[SoftImpute] Iter 61: observed MAE=2059.336249 rank=7\n",
      "[SoftImpute] Iter 62: observed MAE=2059.325794 rank=7\n",
      "[SoftImpute] Iter 63: observed MAE=2059.315551 rank=7\n",
      "[SoftImpute] Iter 64: observed MAE=2059.305595 rank=7\n",
      "[SoftImpute] Iter 65: observed MAE=2059.295940 rank=7\n",
      "[SoftImpute] Iter 66: observed MAE=2059.286614 rank=7\n",
      "[SoftImpute] Iter 67: observed MAE=2059.277698 rank=7\n",
      "[SoftImpute] Iter 68: observed MAE=2059.269206 rank=7\n",
      "[SoftImpute] Iter 69: observed MAE=2059.261139 rank=7\n",
      "[SoftImpute] Iter 70: observed MAE=2059.253510 rank=7\n",
      "[SoftImpute] Iter 71: observed MAE=2059.246333 rank=7\n",
      "[SoftImpute] Iter 72: observed MAE=2059.239591 rank=7\n",
      "[SoftImpute] Iter 73: observed MAE=2059.233323 rank=7\n",
      "[SoftImpute] Iter 74: observed MAE=2059.227542 rank=7\n",
      "[SoftImpute] Iter 75: observed MAE=2059.222244 rank=7\n",
      "[SoftImpute] Iter 76: observed MAE=2059.217373 rank=7\n",
      "[SoftImpute] Iter 77: observed MAE=2059.212993 rank=7\n",
      "[SoftImpute] Iter 78: observed MAE=2059.209061 rank=7\n",
      "[SoftImpute] Iter 79: observed MAE=2059.205587 rank=7\n",
      "[SoftImpute] Iter 80: observed MAE=2059.202522 rank=7\n",
      "[SoftImpute] Iter 81: observed MAE=2059.199847 rank=7\n",
      "[SoftImpute] Iter 82: observed MAE=2059.197569 rank=7\n",
      "[SoftImpute] Iter 83: observed MAE=2059.195677 rank=7\n",
      "[SoftImpute] Iter 84: observed MAE=2059.194160 rank=7\n",
      "[SoftImpute] Iter 85: observed MAE=2059.192987 rank=7\n",
      "[SoftImpute] Iter 86: observed MAE=2059.192182 rank=7\n",
      "[SoftImpute] Iter 87: observed MAE=2059.191732 rank=7\n",
      "[SoftImpute] Iter 88: observed MAE=2059.191635 rank=7\n",
      "[SoftImpute] Iter 89: observed MAE=2059.191888 rank=7\n",
      "[SoftImpute] Iter 90: observed MAE=2059.192453 rank=7\n",
      "[SoftImpute] Iter 91: observed MAE=2059.193327 rank=7\n",
      "[SoftImpute] Iter 92: observed MAE=2059.194476 rank=7\n",
      "[SoftImpute] Iter 93: observed MAE=2059.195887 rank=7\n",
      "[SoftImpute] Iter 94: observed MAE=2059.197571 rank=7\n",
      "[SoftImpute] Iter 95: observed MAE=2059.199499 rank=7\n",
      "[SoftImpute] Iter 96: observed MAE=2059.201656 rank=7\n",
      "[SoftImpute] Iter 97: observed MAE=2059.204024 rank=7\n",
      "[SoftImpute] Iter 98: observed MAE=2059.206596 rank=7\n",
      "[SoftImpute] Iter 99: observed MAE=2059.209395 rank=7\n",
      "[SoftImpute] Iter 100: observed MAE=2059.212415 rank=7\n",
      "[SoftImpute] Stopped after iteration 100 for lambda=2492853.922457\n"
     ]
    }
   ],
   "source": [
    "X_filled_softimpute = SoftImpute().fit_transform(caseData[0])"
   ]
  },
  {
   "cell_type": "code",
   "execution_count": 46,
   "metadata": {},
   "outputs": [
    {
     "name": "stdout",
     "output_type": "stream",
     "text": [
      "[82652.953125   67951.         31013.1015625    708.90002441\n",
      "   776.90002441   108.80000305 16291.10058594    26.40999985\n",
      "    27.79999924   540.71002197   681.70001221  5846.30029297\n",
      "  2704.70019531   934.69500504  1262.35397423   792.98324143\n",
      "  3321.71086228   183.54514132  1427.57263243  3298.27935024\n",
      "  1369.10658553  1032.25740853  2218.88507607  2362.59284147\n",
      "  1881.36356262  1164.90393469  1880.3821174    647.4289017\n",
      "   245.9078472    355.86394805  1015.92913642   509.7254451\n",
      "  3198.49032071]\n",
      "[90966.71875    76674.         24116.20117188  1222.98388412\n",
      "  7105.11664716 18388.90039062  4868.12194965   659.59839553\n",
      "   942.06220326 12773.71072836 13448.74104755  5327.80029297\n",
      "  4056.06183374   372.30001831  2058.69995117   817.70001221\n",
      "  8379.29980469    54.20999908   561.55999756   594.91998291\n",
      "  9746.10058594  1083.32985395  2236.41808731  2585.71745807\n",
      "  2112.00727766  2299.32552735  2626.19834255   652.21701387\n",
      "   290.1905782   1744.71728932  5603.65239189  1240.13226945\n",
      " 12335.22652034]\n"
     ]
    }
   ],
   "source": [
    "print(X_filled_softimpute[0])\n",
    "print(X_filled_softimpute[200000])"
   ]
  },
  {
   "cell_type": "code",
   "execution_count": null,
   "metadata": {},
   "outputs": [],
   "source": []
  }
 ],
 "metadata": {
  "kernelspec": {
   "display_name": "Python 3",
   "language": "python",
   "name": "python3"
  },
  "language_info": {
   "codemirror_mode": {
    "name": "ipython",
    "version": 3
   },
   "file_extension": ".py",
   "mimetype": "text/x-python",
   "name": "python",
   "nbconvert_exporter": "python",
   "pygments_lexer": "ipython3",
   "version": "3.7.3"
  }
 },
 "nbformat": 4,
 "nbformat_minor": 2
}

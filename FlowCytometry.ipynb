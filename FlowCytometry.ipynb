{
 "cells": [
  {
   "cell_type": "code",
   "execution_count": 3,
   "metadata": {},
   "outputs": [],
   "source": [
    "import FlowCytometryTools"
   ]
  },
  {
   "cell_type": "code",
   "execution_count": 9,
   "metadata": {},
   "outputs": [],
   "source": [
    "import os"
   ]
  },
  {
   "cell_type": "code",
   "execution_count": 11,
   "metadata": {},
   "outputs": [],
   "source": [
    "datafile = '/Users/kangakum/Desktop/FlowCytometry/CAP 01  2019 - AML/CAP 01 2019_Tube 6_001.fcs'"
   ]
  },
  {
   "cell_type": "code",
   "execution_count": 6,
   "metadata": {},
   "outputs": [],
   "source": [
    "from FlowCytometryTools import FCMeasurement\n"
   ]
  },
  {
   "cell_type": "code",
   "execution_count": 12,
   "metadata": {},
   "outputs": [],
   "source": [
    "sample = FCMeasurement(ID = 'Test Sample', datafile = datafile)"
   ]
  },
  {
   "cell_type": "code",
   "execution_count": 13,
   "metadata": {},
   "outputs": [
    {
     "name": "stdout",
     "output_type": "stream",
     "text": [
      "('FSC-A', 'FSC-H', 'SSC-A', 'FITC-A', 'PE-A', 'PerCP-Cy5-5-A', 'PE-Cy7-A', 'APC-A', 'APC-R700-A', 'APC-H7-A', 'V450-A', 'V500-C-A', 'BV605-A', 'Time')\n"
     ]
    }
   ],
   "source": [
    "print(sample.channel_names)"
   ]
  },
  {
   "cell_type": "code",
   "execution_count": 14,
   "metadata": {},
   "outputs": [
    {
     "name": "stdout",
     "output_type": "stream",
     "text": [
      "                         $PnN    $PnR  $PnB    $PnE  $PnV  $PnG\n",
      "Channel Number                                                 \n",
      "1                       FSC-A  262144    32  [0, 0]   141   1.0\n",
      "2                       FSC-H  262144    32  [0, 0]   141   1.0\n",
      "3                       SSC-A  262144    32  [0, 0]   335   1.0\n",
      "4                      FITC-A  262144    32  [0, 0]   391   1.0\n",
      "5                        PE-A  262144    32  [0, 0]   458   1.0\n",
      "6               PerCP-Cy5-5-A  262144    32  [0, 0]   637   1.0\n",
      "7                    PE-Cy7-A  262144    32  [0, 0]   543   1.0\n",
      "8                       APC-A  262144    32  [0, 0]   458   1.0\n",
      "9                  APC-R700-A  262144    32  [0, 0]   585   1.0\n",
      "10                   APC-H7-A  262144    32  [0, 0]   525   1.0\n",
      "11                     V450-A  262144    32  [0, 0]   339   1.0\n",
      "12                   V500-C-A  262144    32  [0, 0]   372   1.0\n",
      "13                    BV605-A  262144    32  [0, 0]   500   1.0\n",
      "14                       Time  262144    32  [0, 0]  None  0.01\n"
     ]
    }
   ],
   "source": [
    "print(sample.channels)"
   ]
  },
  {
   "cell_type": "code",
   "execution_count": null,
   "metadata": {},
   "outputs": [],
   "source": []
  }
 ],
 "metadata": {
  "kernelspec": {
   "display_name": "Python 3",
   "language": "python",
   "name": "python3"
  },
  "language_info": {
   "codemirror_mode": {
    "name": "ipython",
    "version": 3
   },
   "file_extension": ".py",
   "mimetype": "text/x-python",
   "name": "python",
   "nbconvert_exporter": "python",
   "pygments_lexer": "ipython3",
   "version": "3.7.3"
  }
 },
 "nbformat": 4,
 "nbformat_minor": 2
}
